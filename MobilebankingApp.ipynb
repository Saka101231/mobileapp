{
 "cells": [
  {
   "cell_type": "code",
   "execution_count": 124,
   "id": "53ca3198",
   "metadata": {},
   "outputs": [],
   "source": [
    "def withdraw(avaliable_balance,amount_to_withdraw):\n",
    "    balace =0\n",
    "    if(amount_to_withdraw < avaliable_balance):\n",
    "        balace = avaliable_balance - amount_to_withdraw\n",
    "        print(f\"Transaction succesfully,your balance is :\")\n",
    "    else :\n",
    "        print(\"Insufficient balance :\")\n",
    "    return balace"
   ]
  },
  {
   "cell_type": "code",
   "execution_count": 125,
   "id": "7b3d156b",
   "metadata": {},
   "outputs": [],
   "source": [
    "def checkbalance():\n",
    "    return avaliablebalance"
   ]
  },
  {
   "cell_type": "code",
   "execution_count": 126,
   "id": "9ef8cc88",
   "metadata": {},
   "outputs": [],
   "source": [
    "def deposit(amount_depost_depost,avaliable_balance) :\n",
    "    avaliable_balance = avaliable_balance + amount_depost_depost\n",
    "    return avaliable_balance"
   ]
  },
  {
   "cell_type": "code",
   "execution_count": 127,
   "id": "50014753",
   "metadata": {},
   "outputs": [],
   "source": [
    "def checkPin(registeredPin,attempt=0):\n",
    "    if( attempt > 3 ):\n",
    "        print(\"Too many attempt\")\n",
    "        return 0\n",
    "    pin = input(\"Enter your Pin>>>>>>>>>>>>> :\")\n",
    "    if (pin == registeredPin):\n",
    "        print(\"Welcome to Mobilebanking>>>>>>>>>>>>>>>>>>>>>>>>>>>>>> :\")\n",
    "        return 1\n",
    "    else:\n",
    "        attempt += 1\n",
    "        print(\"Inval :\")\n",
    "        return checkPin(registeredPin,attempt)"
   ]
  },
  {
   "cell_type": "code",
   "execution_count": 128,
   "id": "27619fd5",
   "metadata": {},
   "outputs": [],
   "source": [
    "def display_menu():\n",
    "    print(\"Print 1 to check Balance\")\n",
    "    print(\"Print 2 to withdraw\")\n",
    "    print(\"press 3 to deposit\")\n",
    "    return int(input(\"Select an Option :\"))"
   ]
  },
  {
   "cell_type": "code",
   "execution_count": 129,
   "id": "55aee758",
   "metadata": {},
   "outputs": [],
   "source": [
    "def dotransaction(avaliablebalance):\n",
    "    display_menu() \n",
    "    \n",
    "    if(selected_option==1):\n",
    "        print(checkbalance())\n",
    "    elif(selected_option==2):\n",
    "        amount_withdraw  =int(input(\"Amount to withdraw:\"))\n",
    "        withdraw(avaliablebalance,amount_withdraw)\n",
    "    elif(selected_option==3):\n",
    "        amount_todeposit =int(input(\"Amount to Depost:\"))\n",
    "        print(deposit(amount_todeposit,avaliablebalance))\n",
    "    else:\n",
    "        (\"No operattion is chooseen\")\n",
    "    \n"
   ]
  },
  {
   "cell_type": "code",
   "execution_count": null,
   "id": "81074c0e",
   "metadata": {},
   "outputs": [
    {
     "name": "stdout",
     "output_type": "stream",
     "text": [
      "Enter your Pin>>>>>>>>>>>>> :1980\n",
      "Welcome to Mobilebanking>>>>>>>>>>>>>>>>>>>>>>>>>>>>>> :\n",
      "Print 1 to check Balance\n",
      "Print 2 to withdraw\n",
      "press 3 to deposit\n",
      "Select an Option :1\n",
      "Amount to withdraw:600\n",
      "Transaction succesfully,your balance is :\n",
      "Print 1 to check Balance\n",
      "Print 2 to withdraw\n",
      "press 3 to deposit\n",
      "Select an Option :2\n"
     ]
    }
   ],
   "source": [
    "pinReg = \"1980\"\n",
    "avaliablebalance =900\n",
    "pinStatus = checkPin(pinReg)\n",
    "if(pinStatus==1):\n",
    "    while True :\n",
    "        dotransaction(avaliablebalance)\n",
    "else:\n",
    "    print(\"Your Card is blocked kindly contact your bank\")"
   ]
  },
  {
   "cell_type": "code",
   "execution_count": null,
   "id": "bb892646",
   "metadata": {},
   "outputs": [],
   "source": []
  },
  {
   "cell_type": "code",
   "execution_count": null,
   "id": "b7626894",
   "metadata": {},
   "outputs": [],
   "source": []
  }
 ],
 "metadata": {
  "kernelspec": {
   "display_name": "Python 3 (ipykernel)",
   "language": "python",
   "name": "python3"
  },
  "language_info": {
   "codemirror_mode": {
    "name": "ipython",
    "version": 3
   },
   "file_extension": ".py",
   "mimetype": "text/x-python",
   "name": "python",
   "nbconvert_exporter": "python",
   "pygments_lexer": "ipython3",
   "version": "3.9.12"
  }
 },
 "nbformat": 4,
 "nbformat_minor": 5
}
